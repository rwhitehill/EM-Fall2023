{
 "cells": [
  {
   "cell_type": "code",
   "execution_count": 1,
   "id": "8c9dacab-5395-4f66-a5e0-3c106b489055",
   "metadata": {},
   "outputs": [],
   "source": [
    "import sympy as sp"
   ]
  },
  {
   "cell_type": "code",
   "execution_count": 24,
   "id": "a77d3f24-bafa-4687-ba0f-51d7bb39644a",
   "metadata": {},
   "outputs": [],
   "source": [
    "A,B = sp.symbols('A B',real=True)\n",
    "I   = sp.symbols('I',real=True)\n",
    "l,a,b,V = sp.symbols('\\ell a b V',real=True,positive=True)"
   ]
  },
  {
   "cell_type": "code",
   "execution_count": 28,
   "id": "3b04b0a7-6b96-4d33-b2e5-6671b7528561",
   "metadata": {},
   "outputs": [],
   "source": [
    "eq1 = sp.Eq(A*a**l + B*a**(-l-1),(2*l+1)/2*V*I)\n",
    "eq2 = sp.Eq(A*b**l + B*b**(-l-1),(2*l+1)/2*V*(-1)**l*I)"
   ]
  },
  {
   "cell_type": "code",
   "execution_count": 29,
   "id": "c1fdfcb3-2ee3-44e2-ae3e-69bde30f2545",
   "metadata": {},
   "outputs": [],
   "source": [
    "sol = sp.solve([eq1,eq2],[A,B])"
   ]
  },
  {
   "cell_type": "code",
   "execution_count": 30,
   "id": "fd894b8a-d88f-4a32-a7fa-bbeb2de638d2",
   "metadata": {},
   "outputs": [
    {
     "data": {
      "text/latex": [
       "$\\displaystyle \\frac{I V \\left(2 \\ell + 1\\right) \\left(- \\left(-1\\right)^{\\ell} b b^{\\ell} + a a^{\\ell}\\right)}{2 \\left(a a^{2 \\ell} - b b^{2 \\ell}\\right)}$"
      ],
      "text/plain": [
       "I*V*(2*\\ell + 1)*(-(-1)**\\ell*b*b**\\ell + a*a**\\ell)/(2*(a*a**(2*\\ell) - b*b**(2*\\ell)))"
      ]
     },
     "execution_count": 30,
     "metadata": {},
     "output_type": "execute_result"
    }
   ],
   "source": [
    "sol[A].simplify().factor()"
   ]
  },
  {
   "cell_type": "code",
   "execution_count": 31,
   "id": "b9be9668-b7fe-41b7-be12-6e37ad295ffc",
   "metadata": {},
   "outputs": [
    {
     "data": {
      "text/latex": [
       "$\\displaystyle \\frac{I V a^{\\ell + 1} b^{\\ell + 1} \\cdot \\left(2 \\ell + 1\\right) \\left(\\left(-1\\right)^{\\ell} a^{\\ell} - b^{\\ell}\\right)}{2 \\left(a a^{2 \\ell} - b b^{2 \\ell}\\right)}$"
      ],
      "text/plain": [
       "I*V*a**(\\ell + 1)*b**(\\ell + 1)*(2*\\ell + 1)*((-1)**\\ell*a**\\ell - b**\\ell)/(2*(a*a**(2*\\ell) - b*b**(2*\\ell)))"
      ]
     },
     "execution_count": 31,
     "metadata": {},
     "output_type": "execute_result"
    }
   ],
   "source": [
    "sol[B].simplify().factor()"
   ]
  },
  {
   "cell_type": "code",
   "execution_count": null,
   "id": "d0549b4e-2a48-4080-b853-1fc41d1dbfb1",
   "metadata": {},
   "outputs": [],
   "source": []
  },
  {
   "cell_type": "code",
   "execution_count": null,
   "id": "7f1f7328-ba89-4c91-8cd2-5a3db59d1174",
   "metadata": {},
   "outputs": [],
   "source": []
  },
  {
   "cell_type": "code",
   "execution_count": null,
   "id": "6e34a981-424e-40b0-afd9-15f0191bd8f2",
   "metadata": {},
   "outputs": [],
   "source": []
  },
  {
   "cell_type": "code",
   "execution_count": null,
   "id": "eada0923-21c8-4402-a1dd-0b17e65c5dde",
   "metadata": {},
   "outputs": [],
   "source": []
  },
  {
   "cell_type": "code",
   "execution_count": null,
   "id": "4cd3eae4-d9d5-4ab8-8d5b-0f177bb2ef95",
   "metadata": {},
   "outputs": [],
   "source": []
  },
  {
   "cell_type": "code",
   "execution_count": null,
   "id": "d0c30b9f-6587-41cc-9ab6-bec06848ef67",
   "metadata": {},
   "outputs": [],
   "source": []
  }
 ],
 "metadata": {
  "kernelspec": {
   "display_name": "Python 3 (ipykernel)",
   "language": "python",
   "name": "python3"
  },
  "language_info": {
   "codemirror_mode": {
    "name": "ipython",
    "version": 3
   },
   "file_extension": ".py",
   "mimetype": "text/x-python",
   "name": "python",
   "nbconvert_exporter": "python",
   "pygments_lexer": "ipython3",
   "version": "3.10.12"
  }
 },
 "nbformat": 4,
 "nbformat_minor": 5
}
