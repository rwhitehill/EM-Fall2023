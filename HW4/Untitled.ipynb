{
 "cells": [
  {
   "cell_type": "code",
   "execution_count": 1,
   "id": "44b01aad-2af9-4a02-bdab-00dc0c61056e",
   "metadata": {},
   "outputs": [],
   "source": [
    "import sympy as sp"
   ]
  },
  {
   "cell_type": "code",
   "execution_count": 63,
   "id": "6000392d-aaf5-42b1-a71b-a3ca6c75692a",
   "metadata": {},
   "outputs": [],
   "source": [
    "xp = sp.Symbol(r'x_{+}',real=True)\n",
    "xm = sp.Symbol(r'x_{-}',real=True)\n",
    "R  = sp.Symbol(r'R',real=True,positive=True)\n",
    "\n",
    "d = -sp.coth(xm)*R/2 + sp.coth(xp)*R/2\n",
    "d = d.rewrite(sp.exp)\n",
    "\n",
    "a = R/sp.S(2)/sp.sinh(xp)\n",
    "b = -R/sp.S(2)/sp.sinh(xm)\n",
    "\n",
    "a = a.rewrite(sp.exp)\n",
    "b = b.rewrite(sp.exp)"
   ]
  },
  {
   "cell_type": "code",
   "execution_count": 65,
   "id": "e3d28fc3-4e14-4ed4-905e-92e0809d39ca",
   "metadata": {},
   "outputs": [
    {
     "data": {
      "text/latex": [
       "$\\displaystyle \\frac{R^{2} \\left(e^{2 x_{+}} + e^{2 x_{-}}\\right)}{e^{2 x_{+}} + e^{2 x_{-}} - e^{2 x_{+} + 2 x_{-}} - 1}$"
      ],
      "text/plain": [
       "R**2*(exp(2*x_{+}) + exp(2*x_{-}))/(exp(2*x_{+}) + exp(2*x_{-}) - exp(2*x_{+} + 2*x_{-}) - 1)"
      ]
     },
     "metadata": {},
     "output_type": "display_data"
    },
    {
     "data": {
      "text/latex": [
       "$\\displaystyle - \\frac{2 R^{2} e^{x_{+}} e^{x_{-}}}{e^{2 x_{+}} e^{2 x_{-}} - e^{2 x_{+}} - e^{2 x_{-}} + 1}$"
      ],
      "text/plain": [
       "-2*R**2*exp(x_{+})*exp(x_{-})/(exp(2*x_{+})*exp(2*x_{-}) - exp(2*x_{+}) - exp(2*x_{-}) + 1)"
      ]
     },
     "metadata": {},
     "output_type": "display_data"
    },
    {
     "name": "stdout",
     "output_type": "stream",
     "text": [
      "\n"
     ]
    },
    {
     "data": {
      "text/latex": [
       "$\\displaystyle \\frac{e^{- x_{+} + x_{-}}}{2} + \\frac{e^{x_{+} - x_{-}}}{2}$"
      ],
      "text/plain": [
       "exp(-x_{+} + x_{-})/2 + exp(x_{+} - x_{-})/2"
      ]
     },
     "execution_count": 65,
     "metadata": {},
     "output_type": "execute_result"
    }
   ],
   "source": [
    "num = d**2 - a**2 - b**2\n",
    "den = 2*a*b\n",
    "display(num.simplify())\n",
    "display(den.simplify().expand())\n",
    "print()\n",
    "r = num/den\n",
    "r.simplify().rewrite(sp.cosh)"
   ]
  },
  {
   "cell_type": "code",
   "execution_count": null,
   "id": "015a9e03-91b7-4666-8319-21c531246d8f",
   "metadata": {},
   "outputs": [],
   "source": []
  },
  {
   "cell_type": "code",
   "execution_count": null,
   "id": "f00e5d43-71c4-42d6-92f9-95422b4d1b48",
   "metadata": {},
   "outputs": [],
   "source": []
  },
  {
   "cell_type": "code",
   "execution_count": null,
   "id": "e51f3375-1a6e-4c58-9a83-766cd818fd29",
   "metadata": {},
   "outputs": [],
   "source": []
  }
 ],
 "metadata": {
  "kernelspec": {
   "display_name": "Python 3 (ipykernel)",
   "language": "python",
   "name": "python3"
  },
  "language_info": {
   "codemirror_mode": {
    "name": "ipython",
    "version": 3
   },
   "file_extension": ".py",
   "mimetype": "text/x-python",
   "name": "python",
   "nbconvert_exporter": "python",
   "pygments_lexer": "ipython3",
   "version": "3.9.17"
  }
 },
 "nbformat": 4,
 "nbformat_minor": 5
}
